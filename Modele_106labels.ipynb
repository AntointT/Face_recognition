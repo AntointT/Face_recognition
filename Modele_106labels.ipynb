{
 "cells": [
  {
   "cell_type": "markdown",
   "metadata": {},
   "source": [
    "# Multi-Label Classification : Age, Sex and Race"
   ]
  },
  {
   "cell_type": "markdown",
   "metadata": {},
   "source": [
    "Pour accéder aux données, il suffit de décompresser le fichier \"UTKFace.tar.gz\". Il doit être dans le même dossier que notre fichier python. Lien de la page où récupérer \"Aligned and Cropped Faces\": https://susanqq.github.io/UTKFace/. Un dossier \"UTKFace\" comprenant l'ensemble des images est alors créé.\n"
   ]
  },
  {
   "cell_type": "code",
   "execution_count": 1,
   "metadata": {},
   "outputs": [],
   "source": [
    "import tarfile\n",
    "tf = tarfile.open(\"UTKFace.tar.gz\", mode=\"r\")\n",
    "tf.extractall(members=None)"
   ]
  },
  {
   "cell_type": "markdown",
   "metadata": {},
   "source": [
    "Les packages suivants sont nécessaires à l'exécution du code."
   ]
  },
  {
   "cell_type": "code",
   "execution_count": 49,
   "metadata": {},
   "outputs": [],
   "source": [
    "from PIL import Image\n",
    "import numpy as np\n",
    "import shutil\n",
    "import matplotlib.pyplot as plt\n",
    "import os\n",
    "import torch.nn as nn\n",
    "from torch.autograd import Variable\n",
    "import torchvision\n",
    "from torchvision import models,transforms,datasets\n",
    "import torch\n",
    "import time\n",
    "%matplotlib inline\n",
    "import pandas as pd\n",
    "import random\n",
    "import torch.nn.functional as F\n",
    "from IPython.display import Image as Img"
   ]
  },
  {
   "cell_type": "markdown",
   "metadata": {},
   "source": [
    "Pour accéder aux images, on se place dans le dossier \"UTKFace\"."
   ]
  },
  {
   "cell_type": "markdown",
   "metadata": {},
   "source": [
    "os.getcwd()"
   ]
  },
  {
   "cell_type": "code",
   "execution_count": 3,
   "metadata": {},
   "outputs": [],
   "source": [
    "os.chdir('UTKFace')"
   ]
  },
  {
   "cell_type": "markdown",
   "metadata": {},
   "source": [
    "Les fonctions suivantes permettent d'extraire les différents labels issues du titre de chaque image. Wordtest est ici le titre sous forme de string."
   ]
  },
  {
   "cell_type": "code",
   "execution_count": 4,
   "metadata": {},
   "outputs": [],
   "source": [
    "def extract_label_str(wordtest,rate):\n",
    "    suffix=\".jpg.chip.jpg\"\n",
    "    wordtest=wordtest[:-len(suffix)]\n",
    "    lstr=wordtest.split(\"_\")\n",
    "    age=lstr[0]\n",
    "    sex=\"male\"\n",
    "    if lstr[1]==str(1):\n",
    "        sex=\"female\"\n",
    "    nb=lstr[2]\n",
    "    race='white'\n",
    "    if (nb==str(1)):\n",
    "        race='black'\n",
    "    if (nb==str(2)):\n",
    "        race='asian'\n",
    "    if (nb==str(3)):\n",
    "        race='indian'\n",
    "    if (nb==str(4)):\n",
    "        race='others'        \n",
    "    val=\"train\"\n",
    "    x=random.uniform(0, 1)\n",
    "    if x<rate:\n",
    "        val=\"valid\"\n",
    "    return(age,sex,race,val)"
   ]
  },
  {
   "cell_type": "code",
   "execution_count": 5,
   "metadata": {},
   "outputs": [],
   "source": [
    "def extract_labels_int(wordtest) :\n",
    "    suffix=\".jpg.chip.jpg\"\n",
    "    wordtest=wordtest[:-len(suffix)]\n",
    "    lstr=wordtest.split(\"_\")\n",
    "    age=int(lstr[0])\n",
    "    sex=int(lstr[1])\n",
    "    race=int(lstr[2])   \n",
    "    return(age,sex,race)"
   ]
  },
  {
   "cell_type": "markdown",
   "metadata": {},
   "source": [
    "On séléctionne les titres de l'ensemble des images présente dans le dossier UTKFace. On obtient une liste de titre que l'on transforme en labels."
   ]
  },
  {
   "cell_type": "code",
   "execution_count": 6,
   "metadata": {},
   "outputs": [],
   "source": [
    "l=os.listdir()\n",
    "\n",
    "l.sort()\n",
    "l=l[:-4]\n",
    "lAge=[]\n",
    "lSex=[]\n",
    "lRace=[]\n",
    "lll=[]\n",
    "for i in range(len(l)):\n",
    "    age,sex,race=extract_labels_int(l[i])\n",
    "    lAge=lAge+[age]\n",
    "    lSex=lSex+[sex]\n",
    "    lRace=lRace+[race]\n",
    "    lll=lll+[(age,sex,race)]\n"
   ]
  },
  {
   "cell_type": "markdown",
   "metadata": {},
   "source": [
    "La fonction transformerlimage permet d'ouvrir une image de la transformer en tenseur puis de la normaliser avant l'injection dans le réseau. TransforBatch permet d'appliquer la fonction présente sur un batch. Ainsi, pour des soucis de mémoires, le préprocessing est réalisé au fure et à mesure de chaque batch."
   ]
  },
  {
   "cell_type": "code",
   "execution_count": 7,
   "metadata": {},
   "outputs": [],
   "source": [
    "def transformer1image(word):\n",
    "    im = Image.open(word)\n",
    "    normalize = transforms.Normalize(mean=[0.5, 0.5, 0.5], std=[0.5, 0.5, 0.5])\n",
    "    im_format = transforms.Compose([transforms.CenterCrop(224),transforms.ToTensor(), normalize])\n",
    "    \n",
    "    q=im_format(im)\n",
    "    return(q)\n",
    "\n",
    "def transforBatch(name_list):\n",
    "    lp=[]\n",
    "    for i in range(len(name_list)):\n",
    "        tens=transformer1image(name_list[i])\n",
    "        lp=lp+[tens]\n",
    "        llp=torch.stack(lp)\n",
    "    return(llp)"
   ]
  },
  {
   "cell_type": "code",
   "execution_count": 244,
   "metadata": {},
   "outputs": [
    {
     "data": {
      "image/jpeg": "[encoded data removed]",
      "text/plain": [
       "<IPython.core.display.Image object>"
      ]
     },
     "execution_count": 244,
     "metadata": {},
     "output_type": "execute_result"
    }
   ],
   "source": [
    "image_name = \"photo_nat.jpeg\"\n",
    "image = Variable(transforBatch([image_name]))\n",
    "Img(filename=image_name)"
   ]
  },
  {
   "cell_type": "code",
   "execution_count": 245,
   "metadata": {},
   "outputs": [
    {
     "name": "stdout",
     "output_type": "stream",
     "text": [
      "tensor(1) tensor(26) tensor(0)\n"
     ]
    }
   ],
   "source": [
    "sexpred,agepred,racepred=cnn(image)\n",
    "print(torch.argmax(sexpred),torch.argmax(agepred),torch.argmax(racepred))"
   ]
  },
  {
   "cell_type": "code",
   "execution_count": 8,
   "metadata": {},
   "outputs": [],
   "source": [
    "lImage=l\n",
    "\n",
    "lImage=np.asarray(lImage)\n",
    "lAge=np.asarray(lAge)\n",
    "lSex=np.asarray(lSex)\n",
    "lRace=np.asarray(lRace)\n"
   ]
  },
  {
   "cell_type": "markdown",
   "metadata": {},
   "source": [
    "On crée maintenant les training et test sets en mélangeant simultanément les données. Le découpage entre le training et test set est de 75%."
   ]
  },
  {
   "cell_type": "code",
   "execution_count": 9,
   "metadata": {},
   "outputs": [],
   "source": [
    "from sklearn.utils import shuffle\n",
    "\n",
    "lImage, lAge,lSex,lRace = shuffle(lImage,lAge,lSex,lRace)\n",
    "batch_size=64\n",
    "rate=0.75\n",
    "n=len(lImage)\n",
    "q=int(rate*n)\n",
    "\n",
    "lImageTrain=lImage[:q]\n",
    "lSexTrain=lSex[:q]\n",
    "lRaceTrain=lRace[:q]\n",
    "lAgeTrain=lAge[:q]\n",
    "\n",
    "lImageTest=lImage[q:]\n",
    "lSexTest=lSex[q:]\n",
    "lRaceTest=lRace[q:]\n",
    "lAgeTest=lAge[q:]\n",
    "\n",
    "n=len(lAgeTrain)\n",
    "nindice=n//batch_size"
   ]
  },
  {
   "cell_type": "markdown",
   "metadata": {},
   "source": [
    "Nous créons maintenant notre réseau adapté à la classification. Jusqu'à self.fc2, les couches sont spécifiques à chaque label. Ensuite, pour chaque output, nous appliquons une couche dépendant du nombre de classes à utiliser."
   ]
  },
  {
   "cell_type": "code",
   "execution_count": 10,
   "metadata": {},
   "outputs": [],
   "source": [
    "class CNN(nn.Module):\n",
    "    def __init__(self):\n",
    "        super(CNN,self).__init__()\n",
    "        self.layer1 = nn.Sequential(\n",
    "            nn.Conv2d(3,96,kernel_size=7,stride=4),\n",
    "            nn.BatchNorm2d(96),\n",
    "            nn.ReLU(),\n",
    "            nn.MaxPool2d(kernel_size=3,stride=2))\n",
    "        self.layer2 = nn.Sequential(\n",
    "            nn.Conv2d(96,256,kernel_size=5,padding=2),\n",
    "            nn.BatchNorm2d(256),\n",
    "            nn.ReLU(),\n",
    "            nn.MaxPool2d(kernel_size=3,stride=2))\n",
    "        self.layer3 = nn.Sequential(\n",
    "            nn.Conv2d(256,384,kernel_size=3,padding=1),\n",
    "            nn.BatchNorm2d(384),\n",
    "            nn.ReLU(),\n",
    "            nn.MaxPool2d(kernel_size=3,stride=2))\n",
    "        self.fc1 = nn.Linear(384*6*6,512)\n",
    "        self.fc2 = nn.Linear(512,512)\n",
    "        self.fc3 = nn.Linear(512,2)\n",
    "        self.fc4 = nn.Linear(512,106)\n",
    "        self.fc5 = nn.Linear(512,5)\n",
    "        \n",
    "        \n",
    "\n",
    "    def forward(self,x):\n",
    "        out = self.layer1(x)\n",
    "        out = self.layer2(out)\n",
    "        out = self.layer3(out)\n",
    "        out = out.view(out.size(0),-1)\n",
    "        #print out.size()\n",
    "        out = F.dropout(F.relu(self.fc1(out)))\n",
    "        out = F.dropout(F.relu(self.fc2(out)))\n",
    "        sex = self.fc3(out)\n",
    "        age = self.fc4(out)\n",
    "        race = self.fc5(out)\n",
    "\n",
    "        return (sex,age,race)"
   ]
  },
  {
   "cell_type": "code",
   "execution_count": 11,
   "metadata": {},
   "outputs": [],
   "source": [
    "use_gpu = torch.cuda.is_available()"
   ]
  },
  {
   "cell_type": "markdown",
   "metadata": {},
   "source": [
    "Pour la suite, il est possible d'utiliser le précédent model ou un model que nous avons préalablement entrainé (partie en italique). Pour l'optimisation de la loss par gradient boosting, l'utilisateur est libre de modifier le pas de temps et l'inertie."
   ]
  },
  {
   "cell_type": "code",
   "execution_count": 116,
   "metadata": {},
   "outputs": [],
   "source": [
    "cnn = CNN()\n",
    "cnn.load_state_dict(torch.load('/home/mathieu/Documents/Projet_final_deep/model'))\n",
    "cnn.eval()\n",
    "#print(cnn.state_dict())\n",
    "if use_gpu:\n",
    "    cnn.cuda()\n",
    "\n",
    "criterion = nn.CrossEntropyLoss()\n",
    "optimizer = torch.optim.SGD(cnn.parameters(),lr=0.001,momentum=0.9)\n",
    "\n",
    "loss_history = []\n",
    "num_epochs = 10\n",
    "train_acc_history = []\n",
    "val_acc_history = []\n",
    "epoch_history = []\n",
    "learning_rate = 0.001\n",
    "best_val_acc = 0.0"
   ]
  },
  {
   "cell_type": "markdown",
   "metadata": {},
   "source": [
    "Cette fonction permet de tester le modèle sur un jeu de donnée passée en argument. On renvoie l'accuracy pour le sexe et l'ethnie. Pour l'age, il s'agit de la moyenne de la valeur absolue des erreurs."
   ]
  },
  {
   "cell_type": "code",
   "execution_count": 13,
   "metadata": {},
   "outputs": [],
   "source": [
    "def testA(cnn,imageTest,sexTest,ageTest,raceTest):\n",
    "    batch_size = 40\n",
    "    totalSize = len(imageTest)\n",
    "    iterations = totalSize//40\n",
    "    tombeJuste = (totalSize%40 != 0)\n",
    "    sexCount = 0\n",
    "    accAge = 0\n",
    "    raceCount = 0\n",
    "    \n",
    "    for i in range(iterations+tombeJuste):\n",
    "        batchImage, batchSex, batchAge, batchRace = imageTest[40*i:40*(i+1)],sexTest[40*i:40*(i+1)],ageTest[40*i:40*(i+1)],raceTest[40*i:40*(i+1)]\n",
    "        currentBatchSize = len(batchImage)\n",
    "        lInput = Variable(transforBatch(batchImage))\n",
    "        sexOutput,ageOutput,raceOutput = cnn(lInput)\n",
    "        sexpred = torch.argmax(sexOutput, dim=1)\n",
    "        agepred = torch.argmax(ageOutput, dim=1)\n",
    "        racepred = torch.argmax(raceOutput, dim=1)\n",
    "        \n",
    "        sexArray = np.array([sexpred[i] == batchSex[i] for i in range(currentBatchSize)])\n",
    "        sexCount += np.sum(sexArray)\n",
    "    \n",
    "        ageArray = np.array([abs(agepred[i]-batchAge[i]) for i in range(currentBatchSize)])\n",
    "        accAge += np.sum(ageArray)\n",
    "    \n",
    "        raceArray = np.array([racepred[i] == batchRace[i] for i in range(currentBatchSize)])\n",
    "        raceCount += np.sum(raceArray)\n",
    "\n",
    "    return(sexCount/totalSize, accAge/totalSize, raceCount/totalSize)"
   ]
  },
  {
   "cell_type": "markdown",
   "metadata": {},
   "source": [
    "L'indice définit le nombre de points dans le training set que l'on souhaite utiliser."
   ]
  },
  {
   "cell_type": "code",
   "execution_count": 16,
   "metadata": {},
   "outputs": [
    {
     "data": {
      "text/plain": [
       "(0.725, 14.879, 0.458)"
      ]
     },
     "execution_count": 16,
     "metadata": {},
     "output_type": "execute_result"
    }
   ],
   "source": [
    "N = 2000\n",
    "testA(cnn,lImageTest[:N],lSexTest[:N],lAgeTest[:N],lRaceTest[:N])"
   ]
  },
  {
   "cell_type": "markdown",
   "metadata": {},
   "source": [
    "On entraine maintenant le  modèle sur le training set. Pour privilégier un label en particulier, l'utilisateur peut modifier les poids a, b et c des loss. On calcule également la loss et les différentes métrics sur chaque label pour le testing set."
   ]
  },
  {
   "cell_type": "code",
   "execution_count": 14,
   "metadata": {},
   "outputs": [
    {
     "name": "stdout",
     "output_type": "stream",
     "text": [
      "Epoch[1/10], Iter [5/355] Loss: 15.0210\n",
      "Accuracy:  (0.609375, 31.8125, 0.265625)\n",
      "Epoch[1/10], Iter [10/355] Loss: 14.6249\n",
      "Accuracy:  (0.671875, 27.46875, 0.34375)\n",
      "Epoch[1/10], Iter [15/355] Loss: 14.6935\n",
      "Accuracy:  (0.578125, 22.171875, 0.375)\n",
      "runtime error\n",
      "Epoch[1/10], Iter [20/355] Loss: 14.1898\n",
      "Accuracy:  (0.609375, 16.203125, 0.53125)\n",
      "Epoch[1/10], Iter [25/355] Loss: 14.6660\n",
      "Accuracy:  (0.59375, 16.25, 0.515625)\n",
      "Epoch[1/10], Iter [30/355] Loss: 13.7444\n",
      "Accuracy:  (0.6875, 16.6875, 0.4375)\n",
      "Epoch[1/10], Iter [35/355] Loss: 14.1166\n",
      "Accuracy:  (0.5, 17.640625, 0.40625)\n",
      "Epoch[1/10], Iter [40/355] Loss: 14.2218\n",
      "Accuracy:  (0.640625, 15.890625, 0.375)\n",
      "Epoch[1/10], Iter [45/355] Loss: 14.5103\n",
      "Accuracy:  (0.65625, 18.8125, 0.5625)\n",
      "Epoch[1/10], Iter [50/355] Loss: 12.7665\n",
      "Accuracy:  (0.671875, 14.890625, 0.375)\n",
      "runtime error\n",
      "Epoch[1/10], Iter [60/355] Loss: 13.5197\n",
      "Accuracy:  (0.625, 17.21875, 0.484375)\n",
      "Epoch[1/10], Iter [65/355] Loss: 13.2336\n",
      "Accuracy:  (0.671875, 17.625, 0.5)\n",
      "Epoch[1/10], Iter [70/355] Loss: 12.9750\n",
      "Accuracy:  (0.6875, 17.875, 0.484375)\n",
      "Epoch[1/10], Iter [75/355] Loss: 14.3439\n",
      "Accuracy:  (0.65625, 16.828125, 0.5625)\n",
      "Epoch[1/10], Iter [80/355] Loss: 13.4060\n",
      "Accuracy:  (0.734375, 17.203125, 0.4375)\n",
      "Epoch[1/10], Iter [85/355] Loss: 12.5434\n",
      "Accuracy:  (0.78125, 15.359375, 0.515625)\n",
      "Epoch[1/10], Iter [90/355] Loss: 12.7115\n",
      "Accuracy:  (0.671875, 17.8125, 0.453125)\n",
      "Epoch[1/10], Iter [95/355] Loss: 13.5878\n",
      "Accuracy:  (0.734375, 21.109375, 0.453125)\n",
      "Epoch[1/10], Iter [100/355] Loss: 12.3833\n",
      "Accuracy:  (0.75, 16.484375, 0.375)\n",
      "Epoch[1/10], Iter [105/355] Loss: 12.7408\n",
      "Accuracy:  (0.703125, 16.671875, 0.53125)\n",
      "Epoch[1/10], Iter [110/355] Loss: 13.0184\n",
      "Accuracy:  (0.796875, 18.328125, 0.46875)\n",
      "Epoch[1/10], Iter [115/355] Loss: 12.6364\n",
      "Accuracy:  (0.65625, 18.953125, 0.546875)\n",
      "Epoch[1/10], Iter [120/355] Loss: 13.1382\n",
      "Accuracy:  (0.765625, 19.109375, 0.5)\n",
      "Epoch[1/10], Iter [125/355] Loss: 11.9850\n",
      "Accuracy:  (0.8125, 16.578125, 0.34375)\n",
      "runtime error\n",
      "Epoch[1/10], Iter [130/355] Loss: 13.0252\n",
      "Accuracy:  (0.8125, 19.625, 0.375)\n",
      "Epoch[1/10], Iter [135/355] Loss: 12.3103\n",
      "Accuracy:  (0.796875, 16.796875, 0.5)\n",
      "runtime error\n",
      "Epoch[1/10], Iter [140/355] Loss: 12.2286\n",
      "Accuracy:  (0.8125, 12.65625, 0.390625)\n",
      "Epoch[1/10], Iter [145/355] Loss: 12.3165\n",
      "Accuracy:  (0.859375, 19.921875, 0.484375)\n",
      "runtime error\n",
      "Epoch[1/10], Iter [150/355] Loss: 13.5886\n",
      "Accuracy:  (0.6875, 13.515625, 0.46875)\n",
      "Epoch[1/10], Iter [155/355] Loss: 12.0131\n",
      "Accuracy:  (0.8125, 13.609375, 0.5)\n",
      "Epoch[1/10], Iter [160/355] Loss: 11.9898\n",
      "Accuracy:  (0.859375, 13.890625, 0.375)\n",
      "Epoch[1/10], Iter [165/355] Loss: 12.1325\n",
      "Accuracy:  (0.796875, 16.71875, 0.46875)\n",
      "Epoch[1/10], Iter [170/355] Loss: 11.9554\n",
      "Accuracy:  (0.796875, 15.765625, 0.4375)\n",
      "runtime error\n",
      "Epoch[1/10], Iter [180/355] Loss: 12.1449\n",
      "Accuracy:  (0.875, 15.125, 0.359375)\n",
      "Epoch[1/10], Iter [185/355] Loss: 11.9319\n",
      "Accuracy:  (0.859375, 16.6875, 0.34375)\n",
      "Epoch[1/10], Iter [190/355] Loss: 13.0531\n",
      "Accuracy:  (0.828125, 16.71875, 0.46875)\n",
      "Epoch[1/10], Iter [195/355] Loss: 12.4820\n",
      "Accuracy:  (0.765625, 15.015625, 0.296875)\n",
      "Epoch[1/10], Iter [200/355] Loss: 12.5498\n",
      "Accuracy:  (0.8125, 19.328125, 0.453125)\n",
      "Epoch[1/10], Iter [205/355] Loss: 12.5632\n",
      "Accuracy:  (0.875, 16.140625, 0.46875)\n",
      "Epoch[1/10], Iter [210/355] Loss: 12.1910\n",
      "Accuracy:  (0.859375, 17.0625, 0.421875)\n",
      "Epoch[1/10], Iter [215/355] Loss: 11.8060\n",
      "Accuracy:  (0.890625, 14.515625, 0.359375)\n",
      "Epoch[1/10], Iter [220/355] Loss: 12.3491\n",
      "Accuracy:  (0.8125, 17.859375, 0.5625)\n",
      "Epoch[1/10], Iter [225/355] Loss: 12.4127\n",
      "Accuracy:  (0.8125, 19.59375, 0.46875)\n",
      "Epoch[1/10], Iter [230/355] Loss: 11.3706\n",
      "Accuracy:  (0.875, 14.59375, 0.34375)\n",
      "runtime error\n",
      "Epoch[1/10], Iter [240/355] Loss: 11.0238\n",
      "Accuracy:  (0.921875, 16.34375, 0.421875)\n",
      "Epoch[1/10], Iter [245/355] Loss: 11.3878\n",
      "Accuracy:  (0.859375, 15.21875, 0.4375)\n",
      "Epoch[1/10], Iter [250/355] Loss: 10.9855\n",
      "Accuracy:  (0.859375, 15.71875, 0.390625)\n",
      "Epoch[1/10], Iter [255/355] Loss: 10.7444\n",
      "Accuracy:  (0.828125, 15.875, 0.4375)\n",
      "Epoch[1/10], Iter [260/355] Loss: 11.9858\n",
      "Accuracy:  (0.828125, 15.703125, 0.359375)\n",
      "runtime error\n",
      "Epoch[1/10], Iter [265/355] Loss: 11.3413\n",
      "Accuracy:  (0.859375, 17.59375, 0.515625)\n",
      "Epoch[1/10], Iter [270/355] Loss: 11.8205\n",
      "Accuracy:  (0.796875, 17.1875, 0.5625)\n",
      "Epoch[1/10], Iter [275/355] Loss: 11.0578\n",
      "Accuracy:  (0.8125, 12.09375, 0.375)\n",
      "Epoch[2/10], Iter [5/355] Loss: 11.3590\n",
      "Accuracy:  (0.8125, 14.421875, 0.46875)\n",
      "Epoch[2/10], Iter [10/355] Loss: 11.3345\n",
      "Accuracy:  (0.9375, 16.421875, 0.53125)\n",
      "Epoch[2/10], Iter [15/355] Loss: 12.4279\n",
      "Accuracy:  (0.8125, 11.328125, 0.46875)\n",
      "runtime error\n",
      "Epoch[2/10], Iter [20/355] Loss: 10.9931\n",
      "Accuracy:  (0.859375, 18.015625, 0.5)\n",
      "Epoch[2/10], Iter [25/355] Loss: 11.3810\n",
      "Accuracy:  (0.796875, 12.765625, 0.484375)\n",
      "Epoch[2/10], Iter [30/355] Loss: 10.7617\n",
      "Accuracy:  (0.9375, 13.078125, 0.5625)\n",
      "Epoch[2/10], Iter [35/355] Loss: 11.2442\n",
      "Accuracy:  (0.84375, 14.328125, 0.453125)\n",
      "Epoch[2/10], Iter [40/355] Loss: 11.2091\n",
      "Accuracy:  (0.875, 16.75, 0.546875)\n",
      "runtime error\n",
      "Epoch[2/10], Iter [45/355] Loss: 11.1641\n",
      "Accuracy:  (0.890625, 18.078125, 0.484375)\n",
      "Epoch[2/10], Iter [50/355] Loss: 10.6012\n",
      "Accuracy:  (0.875, 11.078125, 0.53125)\n",
      "Epoch[2/10], Iter [55/355] Loss: 11.1123\n",
      "Accuracy:  (0.859375, 13.921875, 0.40625)\n",
      "Epoch[2/10], Iter [60/355] Loss: 11.3965\n",
      "Accuracy:  (0.84375, 15.6875, 0.484375)\n",
      "runtime error\n",
      "Epoch[2/10], Iter [65/355] Loss: 10.4733\n",
      "Accuracy:  (0.921875, 16.453125, 0.5625)\n",
      "Epoch[2/10], Iter [70/355] Loss: 11.9843\n",
      "Accuracy:  (0.84375, 16.59375, 0.375)\n",
      "Epoch[2/10], Iter [75/355] Loss: 11.8863\n",
      "Accuracy:  (0.84375, 17.875, 0.46875)\n",
      "Epoch[2/10], Iter [80/355] Loss: 11.6150\n",
      "Accuracy:  (0.921875, 13.96875, 0.46875)\n",
      "Epoch[2/10], Iter [85/355] Loss: 11.6078\n",
      "Accuracy:  (0.875, 15.046875, 0.5)\n",
      "Epoch[2/10], Iter [90/355] Loss: 10.4749\n",
      "Accuracy:  (0.84375, 11.90625, 0.4375)\n",
      "Epoch[2/10], Iter [95/355] Loss: 12.4231\n",
      "Accuracy:  (0.859375, 11.171875, 0.421875)\n",
      "Epoch[2/10], Iter [100/355] Loss: 11.4479\n",
      "Accuracy:  (0.796875, 16.296875, 0.546875)\n",
      "Epoch[2/10], Iter [105/355] Loss: 11.6090\n",
      "Accuracy:  (0.78125, 10.90625, 0.4375)\n",
      "Epoch[2/10], Iter [110/355] Loss: 11.1187\n",
      "Accuracy:  (0.9375, 13.765625, 0.484375)\n",
      "Epoch[2/10], Iter [115/355] Loss: 11.3905\n",
      "Accuracy:  (0.859375, 14.703125, 0.390625)\n",
      "Epoch[2/10], Iter [120/355] Loss: 10.7859\n",
      "Accuracy:  (0.890625, 13.453125, 0.53125)\n",
      "Epoch[2/10], Iter [125/355] Loss: 11.0458\n",
      "Accuracy:  (0.859375, 16.234375, 0.609375)\n",
      "Epoch[2/10], Iter [130/355] Loss: 10.9729\n",
      "Accuracy:  (0.875, 15.515625, 0.53125)\n",
      "Epoch[2/10], Iter [135/355] Loss: 10.1807\n",
      "Accuracy:  (0.921875, 10.5625, 0.421875)\n",
      "Epoch[2/10], Iter [140/355] Loss: 10.6297\n",
      "Accuracy:  (0.859375, 11.90625, 0.546875)\n",
      "runtime error\n",
      "Epoch[2/10], Iter [145/355] Loss: 11.4736\n",
      "Accuracy:  (0.875, 17.8125, 0.40625)\n",
      "Epoch[2/10], Iter [150/355] Loss: 10.9510\n",
      "Accuracy:  (0.84375, 12.796875, 0.546875)\n",
      "Epoch[2/10], Iter [155/355] Loss: 11.0587\n",
      "Accuracy:  (0.859375, 13.140625, 0.546875)\n",
      "Epoch[2/10], Iter [160/355] Loss: 12.1654\n",
      "Accuracy:  (0.84375, 14.96875, 0.609375)\n",
      "Epoch[2/10], Iter [165/355] Loss: 11.0683\n",
      "Accuracy:  (0.84375, 13.34375, 0.515625)\n",
      "runtime error\n",
      "Epoch[2/10], Iter [170/355] Loss: 10.6833\n",
      "Accuracy:  (0.875, 15.640625, 0.34375)\n",
      "Epoch[2/10], Iter [175/355] Loss: 11.4670\n",
      "Accuracy:  (0.78125, 14.15625, 0.421875)\n",
      "Epoch[2/10], Iter [180/355] Loss: 10.2903\n",
      "Accuracy:  (0.875, 11.796875, 0.484375)\n",
      "Epoch[2/10], Iter [185/355] Loss: 10.8793\n",
      "Accuracy:  (0.90625, 14.546875, 0.328125)\n",
      "Epoch[2/10], Iter [190/355] Loss: 11.3192\n",
      "Accuracy:  (0.8125, 16.03125, 0.5)\n",
      "Epoch[2/10], Iter [195/355] Loss: 10.5596\n",
      "Accuracy:  (0.859375, 14.078125, 0.515625)\n",
      "runtime error\n",
      "Epoch[2/10], Iter [200/355] Loss: 10.6330\n",
      "Accuracy:  (0.890625, 12.234375, 0.5625)\n",
      "Epoch[2/10], Iter [205/355] Loss: 11.6301\n",
      "Accuracy:  (0.890625, 16.421875, 0.5625)\n",
      "Epoch[2/10], Iter [210/355] Loss: 10.5819\n",
      "Accuracy:  (0.9375, 12.53125, 0.515625)\n",
      "Epoch[2/10], Iter [215/355] Loss: 10.4459\n",
      "Accuracy:  (0.890625, 11.8125, 0.65625)\n",
      "Epoch[2/10], Iter [220/355] Loss: 11.2961\n",
      "Accuracy:  (0.859375, 12.015625, 0.4375)\n",
      "Epoch[2/10], Iter [225/355] Loss: 11.0287\n",
      "Accuracy:  (0.875, 9.953125, 0.5)\n",
      "Epoch[2/10], Iter [230/355] Loss: 10.7719\n",
      "Accuracy:  (0.875, 13.765625, 0.484375)\n"
     ]
    },
    {
     "name": "stdout",
     "output_type": "stream",
     "text": [
      "Epoch[2/10], Iter [235/355] Loss: 10.9090\n",
      "Accuracy:  (0.875, 13.828125, 0.53125)\n",
      "Epoch[2/10], Iter [240/355] Loss: 10.7280\n",
      "Accuracy:  (0.71875, 15.625, 0.515625)\n",
      "Epoch[2/10], Iter [245/355] Loss: 11.1687\n",
      "Accuracy:  (0.875, 16.78125, 0.5)\n",
      "Epoch[2/10], Iter [250/355] Loss: 11.5241\n",
      "Accuracy:  (0.84375, 13.140625, 0.359375)\n",
      "Epoch[2/10], Iter [255/355] Loss: 10.7182\n",
      "Accuracy:  (0.890625, 12.953125, 0.421875)\n",
      "Epoch[2/10], Iter [260/355] Loss: 9.6568\n",
      "Accuracy:  (0.921875, 10.046875, 0.484375)\n",
      "Epoch[2/10], Iter [265/355] Loss: 10.0554\n",
      "Accuracy:  (0.84375, 11.359375, 0.515625)\n",
      "Epoch[2/10], Iter [270/355] Loss: 11.4439\n",
      "Accuracy:  (0.78125, 13.4375, 0.453125)\n",
      "runtime error\n",
      "Epoch[2/10], Iter [275/355] Loss: 9.9838\n",
      "Accuracy:  (0.890625, 14.484375, 0.609375)\n",
      "runtime error\n"
     ]
    },
    {
     "ename": "KeyboardInterrupt",
     "evalue": "",
     "output_type": "error",
     "traceback": [
      "\u001b[0;31m---------------------------------------------------------------------------\u001b[0m",
      "\u001b[0;31mKeyboardInterrupt\u001b[0m                         Traceback (most recent call last)",
      "\u001b[0;32m<ipython-input-14-ef488ab3c88a>\u001b[0m in \u001b[0;36m<module>\u001b[0;34m\u001b[0m\n\u001b[1;32m     52\u001b[0m             \u001b[0;32mexcept\u001b[0m\u001b[0;34m:\u001b[0m\u001b[0;34m\u001b[0m\u001b[0;34m\u001b[0m\u001b[0m\n\u001b[1;32m     53\u001b[0m                 \u001b[0mprint\u001b[0m\u001b[0;34m(\u001b[0m\u001b[0;34m'runtime error'\u001b[0m\u001b[0;34m)\u001b[0m\u001b[0;34m\u001b[0m\u001b[0;34m\u001b[0m\u001b[0m\n\u001b[0;32m---> 54\u001b[0;31m         \u001b[0msex\u001b[0m\u001b[0;34m,\u001b[0m\u001b[0mage\u001b[0m\u001b[0;34m,\u001b[0m\u001b[0mrace\u001b[0m\u001b[0;34m=\u001b[0m\u001b[0mtestA\u001b[0m\u001b[0;34m(\u001b[0m\u001b[0mcnn\u001b[0m\u001b[0;34m,\u001b[0m\u001b[0mlImageTest\u001b[0m\u001b[0;34m[\u001b[0m\u001b[0;34m:\u001b[0m\u001b[0mN\u001b[0m\u001b[0;34m]\u001b[0m\u001b[0;34m,\u001b[0m\u001b[0mlSexTest\u001b[0m\u001b[0;34m[\u001b[0m\u001b[0;34m:\u001b[0m\u001b[0mN\u001b[0m\u001b[0;34m]\u001b[0m\u001b[0;34m,\u001b[0m\u001b[0mlAgeTest\u001b[0m\u001b[0;34m[\u001b[0m\u001b[0;34m:\u001b[0m\u001b[0mN\u001b[0m\u001b[0;34m]\u001b[0m\u001b[0;34m,\u001b[0m\u001b[0mlRaceTest\u001b[0m\u001b[0;34m[\u001b[0m\u001b[0;34m:\u001b[0m\u001b[0mN\u001b[0m\u001b[0;34m]\u001b[0m\u001b[0;34m)\u001b[0m\u001b[0;34m\u001b[0m\u001b[0;34m\u001b[0m\u001b[0m\n\u001b[0m\u001b[1;32m     55\u001b[0m         \u001b[0maccuracysex\u001b[0m\u001b[0;34m=\u001b[0m\u001b[0maccuracysex\u001b[0m\u001b[0;34m+\u001b[0m\u001b[0;34m[\u001b[0m\u001b[0msex\u001b[0m\u001b[0;34m]\u001b[0m\u001b[0;34m\u001b[0m\u001b[0;34m\u001b[0m\u001b[0m\n\u001b[1;32m     56\u001b[0m         \u001b[0merrorage\u001b[0m\u001b[0;34m=\u001b[0m\u001b[0merrorage\u001b[0m\u001b[0;34m+\u001b[0m\u001b[0;34m[\u001b[0m\u001b[0mage\u001b[0m\u001b[0;34m]\u001b[0m\u001b[0;34m\u001b[0m\u001b[0;34m\u001b[0m\u001b[0m\n",
      "\u001b[0;32m<ipython-input-13-cdd7e2a61f1b>\u001b[0m in \u001b[0;36mtestA\u001b[0;34m(cnn, imageTest, sexTest, ageTest, raceTest)\u001b[0m\n\u001b[1;32m     12\u001b[0m         \u001b[0mcurrentBatchSize\u001b[0m \u001b[0;34m=\u001b[0m \u001b[0mlen\u001b[0m\u001b[0;34m(\u001b[0m\u001b[0mbatchImage\u001b[0m\u001b[0;34m)\u001b[0m\u001b[0;34m\u001b[0m\u001b[0;34m\u001b[0m\u001b[0m\n\u001b[1;32m     13\u001b[0m         \u001b[0mlInput\u001b[0m \u001b[0;34m=\u001b[0m \u001b[0mVariable\u001b[0m\u001b[0;34m(\u001b[0m\u001b[0mtransforBatch\u001b[0m\u001b[0;34m(\u001b[0m\u001b[0mbatchImage\u001b[0m\u001b[0;34m)\u001b[0m\u001b[0;34m)\u001b[0m\u001b[0;34m\u001b[0m\u001b[0;34m\u001b[0m\u001b[0m\n\u001b[0;32m---> 14\u001b[0;31m         \u001b[0msexOutput\u001b[0m\u001b[0;34m,\u001b[0m\u001b[0mageOutput\u001b[0m\u001b[0;34m,\u001b[0m\u001b[0mraceOutput\u001b[0m \u001b[0;34m=\u001b[0m \u001b[0mcnn\u001b[0m\u001b[0;34m(\u001b[0m\u001b[0mlInput\u001b[0m\u001b[0;34m)\u001b[0m\u001b[0;34m\u001b[0m\u001b[0;34m\u001b[0m\u001b[0m\n\u001b[0m\u001b[1;32m     15\u001b[0m         \u001b[0msexpred\u001b[0m \u001b[0;34m=\u001b[0m \u001b[0mtorch\u001b[0m\u001b[0;34m.\u001b[0m\u001b[0margmax\u001b[0m\u001b[0;34m(\u001b[0m\u001b[0msexOutput\u001b[0m\u001b[0;34m,\u001b[0m \u001b[0mdim\u001b[0m\u001b[0;34m=\u001b[0m\u001b[0;36m1\u001b[0m\u001b[0;34m)\u001b[0m\u001b[0;34m\u001b[0m\u001b[0;34m\u001b[0m\u001b[0m\n\u001b[1;32m     16\u001b[0m         \u001b[0magepred\u001b[0m \u001b[0;34m=\u001b[0m \u001b[0mtorch\u001b[0m\u001b[0;34m.\u001b[0m\u001b[0margmax\u001b[0m\u001b[0;34m(\u001b[0m\u001b[0mageOutput\u001b[0m\u001b[0;34m,\u001b[0m \u001b[0mdim\u001b[0m\u001b[0;34m=\u001b[0m\u001b[0;36m1\u001b[0m\u001b[0;34m)\u001b[0m\u001b[0;34m\u001b[0m\u001b[0;34m\u001b[0m\u001b[0m\n",
      "\u001b[0;32m~/.local/lib/python3.6/site-packages/torch/nn/modules/module.py\u001b[0m in \u001b[0;36m__call__\u001b[0;34m(self, *input, **kwargs)\u001b[0m\n\u001b[1;32m    487\u001b[0m             \u001b[0mresult\u001b[0m \u001b[0;34m=\u001b[0m \u001b[0mself\u001b[0m\u001b[0;34m.\u001b[0m\u001b[0m_slow_forward\u001b[0m\u001b[0;34m(\u001b[0m\u001b[0;34m*\u001b[0m\u001b[0minput\u001b[0m\u001b[0;34m,\u001b[0m \u001b[0;34m**\u001b[0m\u001b[0mkwargs\u001b[0m\u001b[0;34m)\u001b[0m\u001b[0;34m\u001b[0m\u001b[0;34m\u001b[0m\u001b[0m\n\u001b[1;32m    488\u001b[0m         \u001b[0;32melse\u001b[0m\u001b[0;34m:\u001b[0m\u001b[0;34m\u001b[0m\u001b[0;34m\u001b[0m\u001b[0m\n\u001b[0;32m--> 489\u001b[0;31m             \u001b[0mresult\u001b[0m \u001b[0;34m=\u001b[0m \u001b[0mself\u001b[0m\u001b[0;34m.\u001b[0m\u001b[0mforward\u001b[0m\u001b[0;34m(\u001b[0m\u001b[0;34m*\u001b[0m\u001b[0minput\u001b[0m\u001b[0;34m,\u001b[0m \u001b[0;34m**\u001b[0m\u001b[0mkwargs\u001b[0m\u001b[0;34m)\u001b[0m\u001b[0;34m\u001b[0m\u001b[0;34m\u001b[0m\u001b[0m\n\u001b[0m\u001b[1;32m    490\u001b[0m         \u001b[0;32mfor\u001b[0m \u001b[0mhook\u001b[0m \u001b[0;32min\u001b[0m \u001b[0mself\u001b[0m\u001b[0;34m.\u001b[0m\u001b[0m_forward_hooks\u001b[0m\u001b[0;34m.\u001b[0m\u001b[0mvalues\u001b[0m\u001b[0;34m(\u001b[0m\u001b[0;34m)\u001b[0m\u001b[0;34m:\u001b[0m\u001b[0;34m\u001b[0m\u001b[0;34m\u001b[0m\u001b[0m\n\u001b[1;32m    491\u001b[0m             \u001b[0mhook_result\u001b[0m \u001b[0;34m=\u001b[0m \u001b[0mhook\u001b[0m\u001b[0;34m(\u001b[0m\u001b[0mself\u001b[0m\u001b[0;34m,\u001b[0m \u001b[0minput\u001b[0m\u001b[0;34m,\u001b[0m \u001b[0mresult\u001b[0m\u001b[0;34m)\u001b[0m\u001b[0;34m\u001b[0m\u001b[0;34m\u001b[0m\u001b[0m\n",
      "\u001b[0;32m<ipython-input-10-69bf0c8cd7a8>\u001b[0m in \u001b[0;36mforward\u001b[0;34m(self, x)\u001b[0m\n\u001b[1;32m     28\u001b[0m         \u001b[0mout\u001b[0m \u001b[0;34m=\u001b[0m \u001b[0mself\u001b[0m\u001b[0;34m.\u001b[0m\u001b[0mlayer1\u001b[0m\u001b[0;34m(\u001b[0m\u001b[0mx\u001b[0m\u001b[0;34m)\u001b[0m\u001b[0;34m\u001b[0m\u001b[0;34m\u001b[0m\u001b[0m\n\u001b[1;32m     29\u001b[0m         \u001b[0mout\u001b[0m \u001b[0;34m=\u001b[0m \u001b[0mself\u001b[0m\u001b[0;34m.\u001b[0m\u001b[0mlayer2\u001b[0m\u001b[0;34m(\u001b[0m\u001b[0mout\u001b[0m\u001b[0;34m)\u001b[0m\u001b[0;34m\u001b[0m\u001b[0;34m\u001b[0m\u001b[0m\n\u001b[0;32m---> 30\u001b[0;31m         \u001b[0mout\u001b[0m \u001b[0;34m=\u001b[0m \u001b[0mself\u001b[0m\u001b[0;34m.\u001b[0m\u001b[0mlayer3\u001b[0m\u001b[0;34m(\u001b[0m\u001b[0mout\u001b[0m\u001b[0;34m)\u001b[0m\u001b[0;34m\u001b[0m\u001b[0;34m\u001b[0m\u001b[0m\n\u001b[0m\u001b[1;32m     31\u001b[0m         \u001b[0mout\u001b[0m \u001b[0;34m=\u001b[0m \u001b[0mout\u001b[0m\u001b[0;34m.\u001b[0m\u001b[0mview\u001b[0m\u001b[0;34m(\u001b[0m\u001b[0mout\u001b[0m\u001b[0;34m.\u001b[0m\u001b[0msize\u001b[0m\u001b[0;34m(\u001b[0m\u001b[0;36m0\u001b[0m\u001b[0;34m)\u001b[0m\u001b[0;34m,\u001b[0m\u001b[0;34m-\u001b[0m\u001b[0;36m1\u001b[0m\u001b[0;34m)\u001b[0m\u001b[0;34m\u001b[0m\u001b[0;34m\u001b[0m\u001b[0m\n\u001b[1;32m     32\u001b[0m         \u001b[0;31m#print out.size()\u001b[0m\u001b[0;34m\u001b[0m\u001b[0;34m\u001b[0m\u001b[0;34m\u001b[0m\u001b[0m\n",
      "\u001b[0;32m~/.local/lib/python3.6/site-packages/torch/nn/modules/module.py\u001b[0m in \u001b[0;36m__call__\u001b[0;34m(self, *input, **kwargs)\u001b[0m\n\u001b[1;32m    487\u001b[0m             \u001b[0mresult\u001b[0m \u001b[0;34m=\u001b[0m \u001b[0mself\u001b[0m\u001b[0;34m.\u001b[0m\u001b[0m_slow_forward\u001b[0m\u001b[0;34m(\u001b[0m\u001b[0;34m*\u001b[0m\u001b[0minput\u001b[0m\u001b[0;34m,\u001b[0m \u001b[0;34m**\u001b[0m\u001b[0mkwargs\u001b[0m\u001b[0;34m)\u001b[0m\u001b[0;34m\u001b[0m\u001b[0;34m\u001b[0m\u001b[0m\n\u001b[1;32m    488\u001b[0m         \u001b[0;32melse\u001b[0m\u001b[0;34m:\u001b[0m\u001b[0;34m\u001b[0m\u001b[0;34m\u001b[0m\u001b[0m\n\u001b[0;32m--> 489\u001b[0;31m             \u001b[0mresult\u001b[0m \u001b[0;34m=\u001b[0m \u001b[0mself\u001b[0m\u001b[0;34m.\u001b[0m\u001b[0mforward\u001b[0m\u001b[0;34m(\u001b[0m\u001b[0;34m*\u001b[0m\u001b[0minput\u001b[0m\u001b[0;34m,\u001b[0m \u001b[0;34m**\u001b[0m\u001b[0mkwargs\u001b[0m\u001b[0;34m)\u001b[0m\u001b[0;34m\u001b[0m\u001b[0;34m\u001b[0m\u001b[0m\n\u001b[0m\u001b[1;32m    490\u001b[0m         \u001b[0;32mfor\u001b[0m \u001b[0mhook\u001b[0m \u001b[0;32min\u001b[0m \u001b[0mself\u001b[0m\u001b[0;34m.\u001b[0m\u001b[0m_forward_hooks\u001b[0m\u001b[0;34m.\u001b[0m\u001b[0mvalues\u001b[0m\u001b[0;34m(\u001b[0m\u001b[0;34m)\u001b[0m\u001b[0;34m:\u001b[0m\u001b[0;34m\u001b[0m\u001b[0;34m\u001b[0m\u001b[0m\n\u001b[1;32m    491\u001b[0m             \u001b[0mhook_result\u001b[0m \u001b[0;34m=\u001b[0m \u001b[0mhook\u001b[0m\u001b[0;34m(\u001b[0m\u001b[0mself\u001b[0m\u001b[0;34m,\u001b[0m \u001b[0minput\u001b[0m\u001b[0;34m,\u001b[0m \u001b[0mresult\u001b[0m\u001b[0;34m)\u001b[0m\u001b[0;34m\u001b[0m\u001b[0;34m\u001b[0m\u001b[0m\n",
      "\u001b[0;32m~/.local/lib/python3.6/site-packages/torch/nn/modules/container.py\u001b[0m in \u001b[0;36mforward\u001b[0;34m(self, input)\u001b[0m\n\u001b[1;32m     90\u001b[0m     \u001b[0;32mdef\u001b[0m \u001b[0mforward\u001b[0m\u001b[0;34m(\u001b[0m\u001b[0mself\u001b[0m\u001b[0;34m,\u001b[0m \u001b[0minput\u001b[0m\u001b[0;34m)\u001b[0m\u001b[0;34m:\u001b[0m\u001b[0;34m\u001b[0m\u001b[0;34m\u001b[0m\u001b[0m\n\u001b[1;32m     91\u001b[0m         \u001b[0;32mfor\u001b[0m \u001b[0mmodule\u001b[0m \u001b[0;32min\u001b[0m \u001b[0mself\u001b[0m\u001b[0;34m.\u001b[0m\u001b[0m_modules\u001b[0m\u001b[0;34m.\u001b[0m\u001b[0mvalues\u001b[0m\u001b[0;34m(\u001b[0m\u001b[0;34m)\u001b[0m\u001b[0;34m:\u001b[0m\u001b[0;34m\u001b[0m\u001b[0;34m\u001b[0m\u001b[0m\n\u001b[0;32m---> 92\u001b[0;31m             \u001b[0minput\u001b[0m \u001b[0;34m=\u001b[0m \u001b[0mmodule\u001b[0m\u001b[0;34m(\u001b[0m\u001b[0minput\u001b[0m\u001b[0;34m)\u001b[0m\u001b[0;34m\u001b[0m\u001b[0;34m\u001b[0m\u001b[0m\n\u001b[0m\u001b[1;32m     93\u001b[0m         \u001b[0;32mreturn\u001b[0m \u001b[0minput\u001b[0m\u001b[0;34m\u001b[0m\u001b[0;34m\u001b[0m\u001b[0m\n\u001b[1;32m     94\u001b[0m \u001b[0;34m\u001b[0m\u001b[0m\n",
      "\u001b[0;32m~/.local/lib/python3.6/site-packages/torch/nn/modules/module.py\u001b[0m in \u001b[0;36m__call__\u001b[0;34m(self, *input, **kwargs)\u001b[0m\n\u001b[1;32m    487\u001b[0m             \u001b[0mresult\u001b[0m \u001b[0;34m=\u001b[0m \u001b[0mself\u001b[0m\u001b[0;34m.\u001b[0m\u001b[0m_slow_forward\u001b[0m\u001b[0;34m(\u001b[0m\u001b[0;34m*\u001b[0m\u001b[0minput\u001b[0m\u001b[0;34m,\u001b[0m \u001b[0;34m**\u001b[0m\u001b[0mkwargs\u001b[0m\u001b[0;34m)\u001b[0m\u001b[0;34m\u001b[0m\u001b[0;34m\u001b[0m\u001b[0m\n\u001b[1;32m    488\u001b[0m         \u001b[0;32melse\u001b[0m\u001b[0;34m:\u001b[0m\u001b[0;34m\u001b[0m\u001b[0;34m\u001b[0m\u001b[0m\n\u001b[0;32m--> 489\u001b[0;31m             \u001b[0mresult\u001b[0m \u001b[0;34m=\u001b[0m \u001b[0mself\u001b[0m\u001b[0;34m.\u001b[0m\u001b[0mforward\u001b[0m\u001b[0;34m(\u001b[0m\u001b[0;34m*\u001b[0m\u001b[0minput\u001b[0m\u001b[0;34m,\u001b[0m \u001b[0;34m**\u001b[0m\u001b[0mkwargs\u001b[0m\u001b[0;34m)\u001b[0m\u001b[0;34m\u001b[0m\u001b[0;34m\u001b[0m\u001b[0m\n\u001b[0m\u001b[1;32m    490\u001b[0m         \u001b[0;32mfor\u001b[0m \u001b[0mhook\u001b[0m \u001b[0;32min\u001b[0m \u001b[0mself\u001b[0m\u001b[0;34m.\u001b[0m\u001b[0m_forward_hooks\u001b[0m\u001b[0;34m.\u001b[0m\u001b[0mvalues\u001b[0m\u001b[0;34m(\u001b[0m\u001b[0;34m)\u001b[0m\u001b[0;34m:\u001b[0m\u001b[0;34m\u001b[0m\u001b[0;34m\u001b[0m\u001b[0m\n\u001b[1;32m    491\u001b[0m             \u001b[0mhook_result\u001b[0m \u001b[0;34m=\u001b[0m \u001b[0mhook\u001b[0m\u001b[0;34m(\u001b[0m\u001b[0mself\u001b[0m\u001b[0;34m,\u001b[0m \u001b[0minput\u001b[0m\u001b[0;34m,\u001b[0m \u001b[0mresult\u001b[0m\u001b[0;34m)\u001b[0m\u001b[0;34m\u001b[0m\u001b[0;34m\u001b[0m\u001b[0m\n",
      "\u001b[0;32m~/.local/lib/python3.6/site-packages/torch/nn/modules/conv.py\u001b[0m in \u001b[0;36mforward\u001b[0;34m(self, input)\u001b[0m\n\u001b[1;32m    318\u001b[0m     \u001b[0;32mdef\u001b[0m \u001b[0mforward\u001b[0m\u001b[0;34m(\u001b[0m\u001b[0mself\u001b[0m\u001b[0;34m,\u001b[0m \u001b[0minput\u001b[0m\u001b[0;34m)\u001b[0m\u001b[0;34m:\u001b[0m\u001b[0;34m\u001b[0m\u001b[0;34m\u001b[0m\u001b[0m\n\u001b[1;32m    319\u001b[0m         return F.conv2d(input, self.weight, self.bias, self.stride,\n\u001b[0;32m--> 320\u001b[0;31m                         self.padding, self.dilation, self.groups)\n\u001b[0m\u001b[1;32m    321\u001b[0m \u001b[0;34m\u001b[0m\u001b[0m\n\u001b[1;32m    322\u001b[0m \u001b[0;34m\u001b[0m\u001b[0m\n",
      "\u001b[0;31mKeyboardInterrupt\u001b[0m: "
     ]
    }
   ],
   "source": [
    "epochs=2\n",
    "N = 1000\n",
    "a=6\n",
    "b=1\n",
    "c=2\n",
    "\n",
    "tabepochs=[0]\n",
    "sex,age,race=testA(cnn,lImageTest[:N],lSexTest[:N],lAgeTest[:N],lRaceTest[:N])                \n",
    "accuracysex=[sex]\n",
    "errorage=[age]\n",
    "accuracyrace=[race]\n",
    "tabloss=[14.99]\n",
    "tenstabloss=[]\n",
    "\n",
    "for epoch in range(epochs):\n",
    "        permutation=np.arange(nindice)\n",
    "        permutation=shuffle(permutation)\n",
    "        tabepochs=tabepochs+[epoch+1]\n",
    "        for i in range(len(permutation)):\n",
    "            try:\n",
    "                indice=permutation[i]*batch_size                        \n",
    "                lSexBatch=torch.from_numpy(lSexTrain[indice:indice+batch_size])\n",
    "                lRaceBatch=torch.from_numpy(lRaceTrain[indice:indice+batch_size])\n",
    "                lAgeBatch=torch.from_numpy(lAgeTrain[indice:indice+batch_size])\n",
    "            \n",
    "                lSexBatch=Variable(lSexBatch)\n",
    "                lRaceBatch=Variable(lRaceBatch)\n",
    "                lAgeBatch=Variable(lAgeBatch)\n",
    "            \n",
    "                lImageBatch=lImageTrain[indice:indice+batch_size]\n",
    "            \n",
    "                lInput=transforBatch(lImageBatch)\n",
    "                lInput=Variable(lInput)\n",
    "            \n",
    "                if use_gpu:\n",
    "                    lInput,lSexBatch,lRaceBatch,lAgeBatch = lInput.cuda(),lSexBatch.cuda(),lRaceBatch.cuda(),lAgeBatch.cuda()\n",
    "            \n",
    "                sexpred,agepred,racepred=cnn(lInput)\n",
    "                loss1=criterion(sexpred,lSexBatch)\n",
    "                loss2=criterion(racepred,lRaceBatch)\n",
    "                loss3=criterion(agepred,lAgeBatch)\n",
    "            \n",
    "                loss=a*loss1+b*loss2+c*loss3\n",
    "                optimizer.zero_grad()\n",
    "                loss.backward()\n",
    "                optimizer.step()\n",
    "                if (i+1) % 5 == 0:\n",
    "                    print ('Epoch[%d/%d], Iter [%d/%d] Loss: %.4f' \n",
    "                        %(epoch+1, num_epochs, i+1, len(lSexTrain)//50, loss))\n",
    "                    print('Accuracy: ', testA(cnn,lImageBatch,lSexBatch,lAgeBatch,lRaceBatch))\n",
    "                    #torch.save(cnn.state_dict(), '/home/mathieu/Documents/Projet_final_deep/model')\n",
    "            except:\n",
    "                print('runtime error')\n",
    "        sex,age,race=testA(cnn,lImageTest[:N],lSexTest[:N],lAgeTest[:N],lRaceTest[:N])                \n",
    "        accuracysex=accuracysex+[sex]\n",
    "        errorage=errorage+[age]\n",
    "        accuracyrace=accuracyrace+[race]\n",
    "        tenstabloss=tenstabloss+[loss]\n",
    "            \n"
   ]
  },
  {
   "cell_type": "code",
   "execution_count": 58,
   "metadata": {},
   "outputs": [
    {
     "name": "stdout",
     "output_type": "stream",
     "text": [
      "[14.99, 11.814105033874512, 10.217668533325195, 10.089146614074707, 9.765390396118164, 10.068646430969238, 8.955753326416016, 8.825361251831055, 8.857754707336426, 10.029623031616211, 8.703582763671875]\n",
      "[0, 1, 2, 3, 4, 5, 6, 7, 8, 9, 10]\n",
      "[0.53125, 0.849, 0.874, 0.875, 0.886, 0.88, 0.879, 0.902, 0.888, 0.886, 0.898]\n",
      "[29.65625, 14.713, 13.955, 12.888, 12.197, 11.017, 11.512, 11.331, 11.326, 11.041, 9.645]\n",
      "[0.328125, 0.445, 0.486, 0.523, 0.546, 0.575, 0.567, 0.595, 0.6, 0.613, 0.604]\n"
     ]
    }
   ],
   "source": [
    "for i in range(epochs):\n",
    "    tabloss.append(tenstabloss[i].item())\n"
   ]
  },
  {
   "cell_type": "code",
   "execution_count": 44,
   "metadata": {},
   "outputs": [
    {
     "data": {
      "image/png": "[encoded data removed]",
      "text/plain": [
       "<Figure size 432x288 with 1 Axes>"
      ]
     },
     "metadata": {
      "needs_background": "light"
     },
     "output_type": "display_data"
    }
   ],
   "source": [
    "import matplotlib.pyplot as plt\n",
    "plt.plot(epochs,tabloss)\n",
    "plt.title(\"Loss\")\n",
    "plt.xlabel('epochs')\n",
    "plt.show()"
   ]
  },
  {
   "cell_type": "code",
   "execution_count": 59,
   "metadata": {},
   "outputs": [
    {
     "data": {
      "image/png": "[encoded data removed]",
      "text/plain": [
       "<Figure size 432x288 with 1 Axes>"
      ]
     },
     "metadata": {
      "needs_background": "light"
     },
     "output_type": "display_data"
    }
   ],
   "source": [
    "plt.plot(epochs,accuracysex)\n",
    "plt.title(\"sexAccuracy\")\n",
    "plt.xlabel('epochs')\n",
    "plt.show()"
   ]
  },
  {
   "cell_type": "code",
   "execution_count": 62,
   "metadata": {},
   "outputs": [],
   "source": [
    "torch.save(cnn.state_dict(), '/home/mathieu/Documents/Projet_final_deep/model')"
   ]
  },
  {
   "cell_type": "code",
   "execution_count": 60,
   "metadata": {},
   "outputs": [
    {
     "data": {
      "image/png": "[encoded data removed]",
      "text/plain": [
       "<Figure size 432x288 with 1 Axes>"
      ]
     },
     "metadata": {
      "needs_background": "light"
     },
     "output_type": "display_data"
    }
   ],
   "source": [
    "plt.plot(epochs,errorage)\n",
    "plt.title(\"AgeMeanError\")\n",
    "plt.xlabel('epochs')\n",
    "plt.show()"
   ]
  },
  {
   "cell_type": "code",
   "execution_count": 61,
   "metadata": {},
   "outputs": [
    {
     "data": {
      "image/png": "[encoded data removed]",
      "text/plain": [
       "<Figure size 432x288 with 1 Axes>"
      ]
     },
     "metadata": {
      "needs_background": "light"
     },
     "output_type": "display_data"
    }
   ],
   "source": [
    "plt.plot(epochs,accuracyrace)\n",
    "plt.title(\"EthnicityAccuracy\")\n",
    "plt.xlabel('epochs')\n",
    "plt.show()"
   ]
  }
 ],
 "metadata": {
  "kernelspec": {
   "display_name": "Python 3",
   "language": "python",
   "name": "python3"
  },
  "language_info": {
   "codemirror_mode": {
    "name": "ipython",
    "version": 3
   },
   "file_extension": ".py",
   "mimetype": "text/x-python",
   "name": "python",
   "nbconvert_exporter": "python",
   "pygments_lexer": "ipython3",
   "version": "3.6.7"
  }
 },
 "nbformat": 4,
 "nbformat_minor": 2
}
