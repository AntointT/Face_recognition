{
 "cells": [
  {
   "cell_type": "code",
   "execution_count": 1,
   "metadata": {
    "collapsed": true
   },
   "outputs": [],
   "source": [
    "import tarfile\n",
    "tf = tarfile.open(\"UTKFace.tar.gz\", mode=\"r\")\n",
    "tf.extractall(members=None)"
   ]
  },
  {
   "cell_type": "code",
   "execution_count": 68,
   "metadata": {
    "collapsed": true
   },
   "outputs": [],
   "source": [
    "from PIL import Image\n",
    "import numpy as np\n",
    "import shutil\n",
    "import matplotlib.pyplot as plt\n",
    "import os\n",
    "import torch.nn as nn\n",
    "from torch.autograd import Variable\n",
    "import torchvision\n",
    "from torchvision import models,transforms,datasets\n",
    "import torch\n",
    "#import bcolz\n",
    "import time\n",
    "%matplotlib inline\n",
    "import pandas as pd\n",
    "import random\n",
    "import torch.nn.functional as F"
   ]
  },
  {
   "cell_type": "code",
   "execution_count": 4,
   "metadata": {},
   "outputs": [],
   "source": [
    "os.chdir(\"UTKFace\")\n",
    "os.mkdir('age')\n",
    "os.mkdir('race')\n",
    "os.mkdir('gender')"
   ]
  },
  {
   "cell_type": "code",
   "execution_count": 5,
   "metadata": {
    "collapsed": true
   },
   "outputs": [],
   "source": [
    "os.chdir('gender')\n",
    "os.mkdir('train')\n",
    "os.mkdir('valid')\n",
    "os.chdir('train')\n",
    "os.mkdir('male')\n",
    "os.mkdir('female')\n",
    "os.chdir(\"..\")\n",
    "os.chdir('valid')\n",
    "os.mkdir('male')\n",
    "os.mkdir('female')\n",
    "os.chdir(\"..\")\n",
    "os.chdir(\"..\")"
   ]
  },
  {
   "cell_type": "code",
   "execution_count": 6,
   "metadata": {
    "collapsed": true
   },
   "outputs": [],
   "source": [
    "os.chdir('age')\n",
    "os.mkdir('train')\n",
    "os.mkdir('valid')\n",
    "os.chdir('train')\n",
    "for i in range (1,107):\n",
    "    os.mkdir('age'+str(i))\n",
    "os.chdir(\"..\")\n",
    "os.chdir('valid')\n",
    "for i in range (107):\n",
    "    os.mkdir('age'+str(i))\n",
    "os.chdir(\"..\")\n",
    "os.chdir(\"..\")"
   ]
  },
  {
   "cell_type": "code",
   "execution_count": 7,
   "metadata": {
    "collapsed": true
   },
   "outputs": [],
   "source": [
    "os.chdir('race')\n",
    "os.mkdir('train')\n",
    "os.mkdir('valid')\n",
    "os.chdir('train')\n",
    "os.mkdir('white')\n",
    "os.mkdir('black')\n",
    "os.mkdir('asian')\n",
    "os.mkdir('indian')\n",
    "os.mkdir('others')\n",
    "os.chdir(\"..\")\n",
    "os.chdir('valid')\n",
    "os.mkdir('white')\n",
    "os.mkdir('black')\n",
    "os.mkdir('asian')\n",
    "os.mkdir('indian')\n",
    "os.mkdir('others')\n",
    "os.chdir(\"..\")\n",
    "os.chdir(\"..\")"
   ]
  },
  {
   "cell_type": "code",
   "execution_count": 8,
   "metadata": {
    "collapsed": true
   },
   "outputs": [],
   "source": [
    "def extract_labels(wordtest,rate) :\n",
    "    suffix=\".jpg.chip.jpg\"\n",
    "    wordtest=wordtest[:-len(suffix)]\n",
    "    #(age,gender,racle,datetimz)=wordtest.split(\"_\")\n",
    "    lstr=wordtest.split(\"_\")\n",
    "    age=lstr[0]\n",
    "    sex=\"male\"\n",
    "    if lstr[1]==str(1):\n",
    "        sex=\"female\"\n",
    "    nb=lstr[2]\n",
    "    race='white'\n",
    "    if (nb==1):\n",
    "        race='black'\n",
    "    if (nb==2):\n",
    "        race='asian'\n",
    "    if (nb==3):\n",
    "        race='indian'\n",
    "    if (nb==4):\n",
    "        race='others'        \n",
    "    val=\"train\"\n",
    "    x=random.uniform(0, 1)\n",
    "    if x<rate:\n",
    "        val=\"valid\"\n",
    "    return(age,sex,race,val)"
   ]
  },
  {
   "cell_type": "code",
   "execution_count": 13,
   "metadata": {},
   "outputs": [],
   "source": [
    "l=os.listdir()\n",
    "l.sort()\n",
    "l=l[:-3]\n",
    "\n",
    "for i in range(len(l)):\n",
    "    h=extract_labels(l[i],0.25)\n",
    "    age,sex,race,val=h[0],h[1],h[2],h[3]\n",
    "    desti1=\"gender/\"+val+\"/\"+sex\n",
    "    shutil.copy(src=l[i], dst=desti1)\n",
    "    desti2=\"age/\"+val+\"/\"+'age'+age\n",
    "    shutil.copy(src=l[i], dst=desti2)\n",
    "    desti3=\"race/\"+val+\"/\"+race\n",
    "    shutil.copy(src=l[i], dst=desti3)\n",
    "\n",
    "    "
   ]
  },
  {
   "cell_type": "code",
   "execution_count": 49,
   "metadata": {
    "scrolled": true
   },
   "outputs": [],
   "source": [
    "normalize = transforms.Normalize(mean=[0.485, 0.456, 0.406], std=[0.229, 0.224, 0.225])\n",
    "im_format = transforms.Compose([transforms.CenterCrop(224), transforms.ToTensor(), normalize])\n"
   ]
  },
  {
   "cell_type": "code",
   "execution_count": 69,
   "metadata": {
    "collapsed": true
   },
   "outputs": [],
   "source": [
    "os.chdir('gender')\n",
    "dsets = {x: datasets.ImageFolder(os.path.join(os.getcwd(), x), im_format) for x in ['train', 'valid']}\n",
    "os.chdir('..')\n",
    "dsets_loader = {x: torch.utils.data.DataLoader(dsets[x], batch_size=64, shuffle=True, num_workers=6) for x in ['train', 'valid']}"
   ]
  },
  {
   "cell_type": "code",
   "execution_count": 70,
   "metadata": {},
   "outputs": [
    {
     "name": "stdout",
     "output_type": "stream",
     "text": [
      "{'train': 17734, 'valid': 5974}\n"
     ]
    }
   ],
   "source": [
    "dset_sizes = {x: len(dsets[x]) for x in ['train', 'valid']}\n",
    "print(dset_sizes)"
   ]
  },
  {
   "cell_type": "code",
   "execution_count": 64,
   "metadata": {
    "collapsed": true
   },
   "outputs": [],
   "source": [
    "net = nn.Sequential(nn.Linear(3 * 32 * 32, 1000), nn.ReLU(), nn.Linear(1000, 10))\n",
    "criterion = nn.CrossEntropyLoss()\n",
    "optimizer = torch.optim.SGD(net.parameters(), lr = 0.01, momentum=0.9, weight_decay=1e-4)"
   ]
  },
  {
   "cell_type": "code",
   "execution_count": 75,
   "metadata": {},
   "outputs": [],
   "source": [
    "for data in dsets_loader['train']:\n",
    "        x,y=data\n",
    "        break"
   ]
  },
  {
   "cell_type": "code",
   "execution_count": 76,
   "metadata": {},
   "outputs": [],
   "source": [
    "x = x[0]"
   ]
  },
  {
   "cell_type": "code",
   "execution_count": 80,
   "metadata": {},
   "outputs": [
    {
     "data": {
      "text/plain": [
       "(3, 224, 224)"
      ]
     },
     "execution_count": 80,
     "metadata": {},
     "output_type": "execute_result"
    }
   ],
   "source": [
    "x = np.array(x)\n",
    "x = np.transpose(x)\n",
    "x.shape"
   ]
  },
  {
   "cell_type": "code",
   "execution_count": 83,
   "metadata": {},
   "outputs": [
    {
     "name": "stdout",
     "output_type": "stream",
     "text": [
      "150528\n"
     ]
    }
   ],
   "source": [
    "print(224*224*3)"
   ]
  },
  {
   "cell_type": "code",
   "execution_count": null,
   "metadata": {
    "collapsed": true
   },
   "outputs": [],
   "source": [
    "class Net(nn.Module):\n",
    "    def __init__(self):\n",
    "        super(Net, self).__init__()\n",
    "        self.conv1 = nn.Conv2d(3, 6, 5)\n",
    "        self.pool = nn.MaxPool2d(2, 2)\n",
    "        self.conv2 = nn.Conv2d(6, 16, 5)\n",
    "        self.fc1 = nn.Linear(16 * 5 * 5, 120)\n",
    "        self.fc2 = nn.Linear(120, 84)\n",
    "        self.fc3 = nn.Linear(84, 2)\n",
    "\n",
    "    def forward(self, x):\n",
    "        x = self.pool(F.relu(self.conv1(x)))\n",
    "        x = self.pool(F.relu(self.conv2(x)))\n",
    "        x = x.view(-1, 16 * 5 * 5)\n",
    "        x = F.relu(self.fc1(x))\n",
    "        x = F.relu(self.fc2(x))\n",
    "        x = self.fc3(x)\n",
    "        return x\n",
    "\n",
    "\n",
    "net = Net()"
   ]
  }
 ],
 "metadata": {
  "kernelspec": {
   "display_name": "Python 3",
   "language": "python",
   "name": "python3"
  },
  "language_info": {
   "codemirror_mode": {
    "name": "ipython",
    "version": 3
   },
   "file_extension": ".py",
   "mimetype": "text/x-python",
   "name": "python",
   "nbconvert_exporter": "python",
   "pygments_lexer": "ipython3",
   "version": "3.6.3"
  }
 },
 "nbformat": 4,
 "nbformat_minor": 2
}
